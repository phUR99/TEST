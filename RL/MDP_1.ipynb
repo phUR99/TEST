{
 "cells": [
  {
   "cell_type": "markdown",
   "metadata": {},
   "source": [
    "1. Markov Process (or Chain)\n",
    "1.1. Sequential Processes\n",
    "    Most classifiers ignored the sequential aspects of data\n",
    "    Consider a system which can occupy one of  𝑁\n",
    "    discrete states or categories  𝑞𝑡∈{𝑆1,𝑆2,⋯,𝑆𝑁}\n",
    " \n",
    "    We are interested in stochastic systems, in which state evolution is random\n",
    "    \n",
    "    Any joint distribution can be factored into a series of conditional distributions\n",
    "\n",
    "𝑝(𝑞0,𝑞1,⋯,𝑞𝑇)=𝑝(𝑞0)𝑝(𝑞1∣𝑞0)𝑝(𝑞2∣𝑞1𝑞0)𝑝(𝑞3∣𝑞2𝑞1𝑞0)⋯\n",
    "Amost impossible to compute !!\n",
    "\n",
    "𝑝(𝑞0,𝑞1,⋯,𝑞𝑇)=𝑝(𝑞0)𝑝(𝑞1∣𝑞0)𝑝(𝑞2∣𝑞1)𝑝(𝑞3∣𝑞2)⋯\n",
    "Possible and tractable !!"
   ]
  },
  {
   "cell_type": "code",
   "execution_count": null,
   "metadata": {},
   "outputs": [],
   "source": [
    "import numpy as np\n",
    "#P 행렬은 특정 상태 Si에 대해서 Sj로 전이(transition)할 확률의 행렬\n",
    "P =[\n",
    "    [0, 0, 1], \n",
    "    [1/2, 1/2, 0],\n",
    "    [1/3, 2/3, 0]\n",
    "    ]"
   ]
  },
  {
   "cell_type": "code",
   "execution_count": null,
   "metadata": {},
   "outputs": [],
   "source": [
    "print(P[0][:])"
   ]
  },
  {
   "cell_type": "code",
   "execution_count": null,
   "metadata": {},
   "outputs": [],
   "source": [
    "#[0, 3) 중에서 1개를 뽑고 그 확률을 P[1]행으로 정함\n",
    "#[0]은 대괄호 출력을 지우는 역할\n",
    "#np.random.choice?의 형식으로 도움말 가능\n",
    "s = np.random.choice(3, 1, p = P[1][:])[0]\n",
    "print(s)"
   ]
  },
  {
   "cell_type": "code",
   "execution_count": null,
   "metadata": {},
   "outputs": [],
   "source": [
    "#seq. processes\n",
    "#seq. gen. by Markov chain\n",
    "#S1 =0, S2= 1, S3 =2\n",
    "\n",
    "#starting from 0\n",
    "x = 0\n",
    "S = []\n",
    "S.append(x)\n",
    "size = 20\n",
    "#size에 따른 markov chain 구현\n",
    "for i in range(size):\n",
    "    x = np.random.choice(3, 1, p =P[x][:])[0]\n",
    "    S.append(x)\n",
    "S"
   ]
  },
  {
   "cell_type": "markdown",
   "metadata": {},
   "source": [
    "2.Chapman-kolmogorv EQ."
   ]
  },
  {
   "cell_type": "code",
   "execution_count": null,
   "metadata": {},
   "outputs": [],
   "source": [
    "#init 상태\n",
    "u =[0, 1, 0]\n",
    "P = np.asmatrix(P)\n",
    "u = np.asmatrix(u)\n",
    "# P(n) = u * P * P....\n",
    "for i in range(10):\n",
    "    u = u * P\n",
    "    print(u)\n",
    "#다회 반복할 수록 큰수의 법칙에 따라\n",
    "#steady-state의 확률로 수렴한다.\n",
    "u = u*P**100\n",
    "print(u)"
   ]
  },
  {
   "cell_type": "markdown",
   "metadata": {},
   "source": [
    "3. Stationary Distribution"
   ]
  },
  {
   "cell_type": "code",
   "execution_count": null,
   "metadata": {},
   "outputs": [],
   "source": [
    "#eigen_analysis\n",
    "d, v = np.linalg.eig(P.T)\n",
    "print(d)"
   ]
  },
  {
   "cell_type": "code",
   "execution_count": null,
   "metadata": {},
   "outputs": [],
   "source": [
    "#normalized\n",
    "v[:, 2]/np.sum(v[:, 2])"
   ]
  }
 ],
 "metadata": {
  "kernelspec": {
   "display_name": "base",
   "language": "python",
   "name": "python3"
  },
  "language_info": {
   "codemirror_mode": {
    "name": "ipython",
    "version": 3
   },
   "file_extension": ".py",
   "mimetype": "text/x-python",
   "name": "python",
   "nbconvert_exporter": "python",
   "pygments_lexer": "ipython3",
   "version": "3.11.7"
  }
 },
 "nbformat": 4,
 "nbformat_minor": 2
}
