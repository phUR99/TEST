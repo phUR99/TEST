{
 "cells": [
  {
   "cell_type": "markdown",
   "metadata": {},
   "source": [
    "1. MRP"
   ]
  },
  {
   "cell_type": "code",
   "execution_count": null,
   "metadata": {},
   "outputs": [],
   "source": [
    "import numpy as np"
   ]
  },
  {
   "cell_type": "code",
   "execution_count": null,
   "metadata": {},
   "outputs": [],
   "source": [
    "# reward\n",
    "R = [-2, -2, -2, 10, 1, -1, 0]\n",
    "gamma = 0.9\n",
    "# sequence is given\n",
    "S = [0, 1, 2, 4, 2, 4]\n",
    "# return\n",
    "G = 0\n",
    "for i in range(6):\n",
    "    # G = Rt+1 + gamma * Rt+2 + gamma^2 * Rt+3...\n",
    "    G = G +(gamma**i)*R[S[i]]\n",
    "print(G)"
   ]
  },
  {
   "cell_type": "code",
   "execution_count": null,
   "metadata": {},
   "outputs": [],
   "source": [
    "P =[\n",
    "    [0,   0.5, 0,    0,    0,    0.5,   0],\n",
    "    [0,   0,   0.8,  0,    0,    0,   0.2],\n",
    "    [0,   0,   0,    0.6,  0.4,  0,     0],\n",
    "    [0,   0,   0,    0,    0,    0,     1],\n",
    "    [0.2, 0.4, 0.4,  0,    0,    0,     0],\n",
    "    [0.1, 0,   0,    0,    0,    0.9,   0],\n",
    "    [0,   0,   0,    0,    0,    0,     1]\n",
    "]\n",
    "#starting from 0\n",
    "x = 0\n",
    "S = []\n",
    "S.append(x)\n",
    "for i in range(5):\n",
    "    x = np.random.choice(len(P), 1, p = P[x][:])[0]\n",
    "    S.append(x)\n",
    "G = 0\n",
    "for i in range(5):\n",
    "    G = G + (gamma**i) * R[S[i]]\n",
    "print(S)\n",
    "print(G)"
   ]
  },
  {
   "cell_type": "code",
   "execution_count": null,
   "metadata": {},
   "outputs": [],
   "source": [
    "#Bellman-EQ를 사용해서 value function 구하기\n",
    "P = np.asmatrix(P)\n",
    "R = np.asmatrix(R)\n",
    "R = R.T\n",
    "gamma = 0.9\n",
    "v = (np.eye(7) - gamma*P).I*R\n",
    "print(v)"
   ]
  },
  {
   "cell_type": "code",
   "execution_count": null,
   "metadata": {},
   "outputs": [],
   "source": [
    "v= np.zeros([7, 1])\n",
    "# value iteration를 이용해서 value function 구하기\n",
    "# O(N^2)의 시간 복잡도\n",
    "# iteration의 숫자가 커질 수록 위의 eigenvalue를 사용한 값과 근사 가능\n",
    "# effective!!\n",
    "gamma = 1\n",
    "for i in range(100):\n",
    "    v = R + gamma*P*v\n",
    "print(v)"
   ]
  }
 ],
 "metadata": {
  "kernelspec": {
   "display_name": "base",
   "language": "python",
   "name": "python3"
  },
  "language_info": {
   "codemirror_mode": {
    "name": "ipython",
    "version": 3
   },
   "file_extension": ".py",
   "mimetype": "text/x-python",
   "name": "python",
   "nbconvert_exporter": "python",
   "pygments_lexer": "ipython3",
   "version": "3.11.7"
  }
 },
 "nbformat": 4,
 "nbformat_minor": 2
}
