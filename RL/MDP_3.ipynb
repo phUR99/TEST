{
 "cells": [
  {
   "cell_type": "markdown",
   "metadata": {},
   "source": [
    "1. Markov Decision Process\n",
    "\n",
    "    So far, we analyzed the passive behavior of a Markov chain with rewards\n",
    "\n",
    "    A Markov decision process (MDP) is a Markov reward process with decisions (or actions)."
   ]
  },
  {
   "cell_type": "code",
   "execution_count": null,
   "metadata": {},
   "outputs": [],
   "source": [
    "# [PU PF RU RF] = [0 1 2 3]\n",
    "\n",
    "import numpy as np\n",
    "\n",
    "P = [[1, 0, 0, 0],\n",
    "    [0, 1, 0, 0],\n",
    "    [0.5, 0, 0.5, 0],\n",
    "    [0, 1, 0, 0]]\n",
    "\n",
    "R = [0, 0, 10, 10]\n",
    "\n",
    "P = np.asmatrix(P)\n",
    "R = np.asmatrix(R).T\n",
    "\n",
    "\n",
    "\n"
   ]
  },
  {
   "cell_type": "code",
   "execution_count": null,
   "metadata": {},
   "outputs": [],
   "source": [
    "gamma = 0.9\n",
    "v =(np.eye(4) - gamma*P).I*R\n",
    "print(v)"
   ]
  },
  {
   "cell_type": "code",
   "execution_count": null,
   "metadata": {},
   "outputs": [],
   "source": [
    "#init\n",
    "v = np.zeros([4, 1])\n",
    "#iter\n",
    "for _ in range(10):\n",
    "    v = R + gamma*P*v\n",
    "print(v)"
   ]
  },
  {
   "cell_type": "markdown",
   "metadata": {},
   "source": [
    "2.3. Bellman Optimality Equation"
   ]
  },
  {
   "cell_type": "code",
   "execution_count": null,
   "metadata": {},
   "outputs": [],
   "source": [
    "#state : action\n",
    "states =[0, 1, 2, 3]\n",
    "actions =[0, 1]\n",
    "#action마다 다음 상태로 전이되는 것이 다르기 때문에\n",
    "#dictionary를 활용\n",
    "P = {\n",
    "    0 : { \n",
    "        0 : [(1, 0)],\n",
    "        1 : [(0.5, 0), (0.5, 1)]           \n",
    "    },\n",
    "    1 : {\n",
    "        0 : [(0.5, 0), (0.5, 3)],\n",
    "        1 : [(1, 1)]           \n",
    "    },\n",
    "    2 : {\n",
    "        0 : [(0.5, 0), (0.5, 2)],\n",
    "        1 : [(0.5, 2), (0.5, 1)]           \n",
    "    },\n",
    "    3 : {\n",
    "        0 : [(0.5, 2), (0.5, 3)],\n",
    "        1 : [(1, 1)]           \n",
    "    }\n",
    "}\n",
    "#state : action\n",
    "P[2][0]\n",
    "R = [0, 0, 10, 10]\n",
    "gamma = 0.9\n"
   ]
  },
  {
   "cell_type": "code",
   "execution_count": null,
   "metadata": {},
   "outputs": [],
   "source": [
    "# s =2, a = 0\n",
    "v = [0, 0, 10, 10]\n",
    "tmp = 0\n",
    "for trans in P[2][0]:\n",
    "    #sum of prob * value function of next state\n",
    "    tmp += trans[0] * v[trans[1]]\n",
    "print(tmp)"
   ]
  },
  {
   "cell_type": "code",
   "execution_count": null,
   "metadata": {},
   "outputs": [],
   "source": [
    "#shorten\n",
    "sum(trans[0]*v[trans[1]] for trans in P[2][0])"
   ]
  },
  {
   "cell_type": "markdown",
   "metadata": {},
   "source": [
    "3.1. Value iteration"
   ]
  },
  {
   "cell_type": "code",
   "execution_count": null,
   "metadata": {},
   "outputs": [],
   "source": [
    "v = [0, 0, 0, 0]\n",
    "# 가능한 state에 대해서 value를 전부 계산한다\n",
    "for _ in range(100):\n",
    "    for s in states :\n",
    "        q_0 = sum(trans[0]*v[trans[1]] for trans in P[s][0])\n",
    "        q_1 = sum(trans[0]*v[trans[1]] for trans in P[s][1])\n",
    "\n",
    "        v[s] = R[s] + gamma*max(q_0, q_1)\n",
    "print(v)    "
   ]
  },
  {
   "cell_type": "code",
   "execution_count": null,
   "metadata": {},
   "outputs": [],
   "source": [
    "# shorten\n",
    "for _ in range(100):\n",
    "    for s in states :        \n",
    "        v[s] = R[s] + gamma*max([sum(trans[0]*v[trans[1]] for trans in P[s][a]) for a in actions])\n",
    "print(v)"
   ]
  },
  {
   "cell_type": "code",
   "execution_count": null,
   "metadata": {},
   "outputs": [],
   "source": [
    "optPolicy = [0]*4\n",
    "for s in states:\n",
    "    q_0 = sum(trans[0]*v[trans[1]] for trans in P[s][0])\n",
    "    q_1 = sum(trans[0]*v[trans[1]] for trans in P[s][1])\n",
    "    #argmax(list)의 형태로\n",
    "    optPolicy[s] = np.argmax([q_0, q_1])\n",
    "\n",
    "#state에 대해서 최적의 action을 결정해주는 policy\n",
    "optPolicy"
   ]
  },
  {
   "cell_type": "code",
   "execution_count": null,
   "metadata": {},
   "outputs": [],
   "source": [
    "#shorten\n",
    "\n",
    "optPolicy =[0]*4\n",
    "\n",
    "for s in states:\n",
    "    optPolicy[s] = np.argmax([sum(trans[0]*v[trans[1]] for trans in P[s][a]) for a in actions])\n",
    "optPolicy"
   ]
  },
  {
   "cell_type": "markdown",
   "metadata": {},
   "source": [
    "3.2 Policy iteration"
   ]
  },
  {
   "cell_type": "code",
   "execution_count": null,
   "metadata": {},
   "outputs": [],
   "source": [
    "# init policy 만들기\n",
    "policy = np.random.randint(0, 2, 4)\n",
    "policy"
   ]
  },
  {
   "cell_type": "code",
   "execution_count": null,
   "metadata": {},
   "outputs": [],
   "source": [
    "def cal_value(policy):\n",
    "    v = [0] *4\n",
    "     \n",
    "    for _ in range(100):\n",
    "        for s in states :        \n",
    "            v[s] = R[s] + gamma*(sum(trans[0]*v[trans[1]] for trans in P[s][policy[s]]))   \n",
    "    return v"
   ]
  },
  {
   "cell_type": "code",
   "execution_count": null,
   "metadata": {},
   "outputs": [],
   "source": [
    "v = cal_value(policy)\n",
    "print(v)"
   ]
  },
  {
   "cell_type": "code",
   "execution_count": null,
   "metadata": {},
   "outputs": [],
   "source": [
    "\n",
    "for _ in range(100):\n",
    "    for s in states:\n",
    "        policy[s] = np.argmax([sum(trans[0]*v[trans[1]] for trans in P[s][a]) for a in actions])\n",
    "    v = cal_value(policy)\n",
    "print(policy)"
   ]
  },
  {
   "cell_type": "markdown",
   "metadata": {},
   "source": [
    "4. Exercise"
   ]
  },
  {
   "cell_type": "code",
   "execution_count": null,
   "metadata": {},
   "outputs": [],
   "source": [
    "States = [0, 1, 2, 3, 4, 5, 6, 7, 8, 9, 10]\n",
    "Actions = [0, 1, 2, 3] # [north, east, south, west]\n",
    "P = {\n",
    "     0: {0: [(0.9,0), (0.1,1), (0,4)], \n",
    "         1: [(0.8,1), (0.1,4), (0.1,0)], \n",
    "         2: [(0.8,4), (0.1,1), (0.1,0)], \n",
    "         3: [(0.9,0), (0.1,4)]},\n",
    "     1: {0: [(0.8,1), (0.1,2), (0.1,0)], \n",
    "         1: [(0.8,2), (0.2,1)], \n",
    "         2: [(0.8,1), (0.1,0), (0.1,2)], \n",
    "         3: [(0.8,0), (0.2,1)]},\n",
    "     2: {0: [(0.8,2), (0.1,3), (0.1,1)], \n",
    "         1: [(0.8,3), (0.1,5), (0.1,2)], \n",
    "         2: [(0.8,5), (0.1,1), (0.1,3)], \n",
    "         3: [(0.8,1), (0.1,2), (0.1,5)]},\n",
    "     3: {0: [(0.9,3), (0.1,2)], \n",
    "         1: [(0.9,3), (0.1,6)], \n",
    "         2: [(0.8,6), (0.1,2), (0.1,3)], \n",
    "         3: [(0.8,2), (0.1,3), (0.1,6)]},\n",
    "     4: {0: [(0.8,0), (0.2,4)], \n",
    "         1: [(0.8,4), (0.1,7), (0.1,0)], \n",
    "         2: [(0.8,7), (0.2,4)], \n",
    "         3: [(0.8,4), (0.1,0), (0.1,7)]},\n",
    "     5: {0: [(0.8,2), (0.1,6), (0.1,5)], \n",
    "         1: [(0.8,6), (0.1,9), (0.1,2)], \n",
    "         2: [(0.8,9), (0.1,5), (0.1,6)], \n",
    "         3: [(0.8,5), (0.1,2), (0.1,9)]},\n",
    "     6: {0: [(0.8,3), (0.1,6), (0.1,5)], \n",
    "         1: [(0.8,6), (0.1,10), (0.1,3)], \n",
    "         2: [(0.8,10), (0.1,5), (0.1,6)], \n",
    "         3: [(0.8,5), (0.1,3), (0.1,10)]},\n",
    "     7: {0: [(0.8,4), (0.1,8), (0.1,7)], \n",
    "         1: [(0.8,8), (0.1,7), (0.1,4)], \n",
    "         2: [(0.9,7), (0.1,8)], \n",
    "         3: [(0.9,7), (0.1,4)]},\n",
    "     8: {0: [(0.8,8), (0.1,9), (0.1,7)], \n",
    "         1: [(0.8,9), (0.2,8)], \n",
    "         2: [(0.8,8), (0.1,7), (0.1,9)], \n",
    "         3: [(0.8,7), (0.2,8)]},\n",
    "     9: {0: [(0.8,5), (0.1,10), (0.1,8)], \n",
    "         1: [(0.8,9), (0.1,9), (0.1,5)], \n",
    "         2: [(0.8,9), (0.1,8), (0.1,10)], \n",
    "         3: [(0.8,8), (0.1,5), (0.1,9)]},\n",
    "     10: {0: [(0.8,6), (0.1,10), (0.1,9)], \n",
    "          1: [(0.9,10), (0.1,6)], \n",
    "          2: [(0.9,10), (0.1,9)], \n",
    "          3: [(0.8,9), (0.1,6), (0.1,10)]}\n",
    "}\n",
    "\n",
    "R = [0, 0, 0, 1, 0, 0, -100, 0, 0, 0, 0]\n",
    "gamma = 0.9"
   ]
  },
  {
   "cell_type": "code",
   "execution_count": null,
   "metadata": {},
   "outputs": [],
   "source": [
    "v =[0] * 11\n",
    "optPolicy = [0] * 11\n",
    "\n",
    "for _ in range(100):\n",
    "    for s in States :\n",
    "        v[s] = R[s] + gamma * max([sum(trans[0] * v[trans[1]] for trans in P[s][a]) for a in Actions])\n",
    "\n",
    "print(v)"
   ]
  },
  {
   "cell_type": "code",
   "execution_count": null,
   "metadata": {},
   "outputs": [],
   "source": [
    "for s in States:\n",
    "    optPolicy[s] = np.argmax([sum(trans[0]*v[trans[1]] for trans in P[s][a])for a in Actions])\n",
    "print(optPolicy)    "
   ]
  }
 ],
 "metadata": {
  "kernelspec": {
   "display_name": "base",
   "language": "python",
   "name": "python3"
  },
  "language_info": {
   "codemirror_mode": {
    "name": "ipython",
    "version": 3
   },
   "file_extension": ".py",
   "mimetype": "text/x-python",
   "name": "python",
   "nbconvert_exporter": "python",
   "pygments_lexer": "ipython3",
   "version": "3.11.7"
  }
 },
 "nbformat": 4,
 "nbformat_minor": 2
}
