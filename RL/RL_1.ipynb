{
 "cells": [
  {
   "cell_type": "code",
   "execution_count": 1,
   "metadata": {},
   "outputs": [],
   "source": [
    "import gym\n",
    "import numpy as np\n",
    "import matplotlib.pyplot as plt\n",
    "import pygame\n",
    "import sys\n",
    "from PIL import Image\n",
    "from IPython import display as ipythonDisplay\n",
    "#해당 그래프를 인라인으로 표시\n",
    "#%matplotlib inline"
   ]
  },
  {
   "cell_type": "code",
   "execution_count": 2,
   "metadata": {},
   "outputs": [
    {
     "name": "stdout",
     "output_type": "stream",
     "text": [
      "(array([-0.04168531, -0.01275495, -0.03367684,  0.0196571 ], dtype=float32), {})\n"
     ]
    }
   ],
   "source": [
    "env = gym.make('CartPole-v1', render_mode='rgb_array')\n",
    "observation = env.reset()\n",
    "print(observation)"
   ]
  },
  {
   "cell_type": "code",
   "execution_count": 65,
   "metadata": {},
   "outputs": [
    {
     "name": "stdout",
     "output_type": "stream",
     "text": [
      "1 [ 0.00382532  0.14734685  0.01510661 -0.25669605] 1.0 False False\n",
      "0 [ 0.00677225 -0.04798749  0.00997268  0.0407132 ] 1.0 False False\n",
      "0 [ 0.0058125  -0.24325101  0.01078695  0.33652586] 1.0 False False\n",
      "1 [ 0.00094748 -0.04828422  0.01751747  0.04726397] 1.0 False False\n",
      "1 [-1.8200519e-05  1.4658222e-01  1.8462745e-02 -2.3984097e-01] 1.0 False False\n",
      "0 [ 0.00291344 -0.04879855  0.01366593  0.05860797] 1.0 False False\n",
      "0 [ 0.00193747 -0.24411374  0.01483808  0.35557106] 1.0 False False\n",
      "1 [-0.0029448  -0.04920588  0.02194951  0.06760368] 1.0 False False\n",
      "0 [-0.00392892 -0.24463552  0.02330158  0.3671302 ] 1.0 False False\n",
      "1 [-0.00882163 -0.04985231  0.03064418  0.08188471] 1.0 False False\n",
      "1 [-0.00981868  0.14481726  0.03228188 -0.20097457] 1.0 False False\n",
      "1 [-0.00692233  0.339463    0.02826239 -0.48330182] 1.0 False False\n",
      "1 [-1.3307098e-04  5.3417492e-01  1.8596349e-02 -7.6694500e-01] 1.0 False False\n",
      "1 [ 0.01055043  0.729036    0.00325745 -1.053719  ] 1.0 False False\n",
      "0 [ 0.02513115  0.533871   -0.01781693 -0.7600154 ] 1.0 False False\n",
      "1 [ 0.03580857  0.7292338  -0.03301724 -1.058251  ] 1.0 False False\n",
      "0 [ 0.05039324  0.5345645  -0.05418226 -0.77611154] 1.0 False False\n",
      "1 [ 0.06108453  0.7303881  -0.0697045  -1.0853378 ] 1.0 False False\n",
      "0 [ 0.0756923   0.5362515  -0.09141125 -0.81531644] 1.0 False False\n",
      "1 [ 0.08641732  0.7324982  -0.10771757 -1.135295  ] 1.0 False False\n",
      "0 [ 0.10106729  0.5389377  -0.13042347 -0.8782448 ] 1.0 False False\n",
      "1 [ 0.11184604  0.73556775 -0.14798838 -1.2089208 ] 1.0 False False\n",
      "1 [ 0.1265574  0.9322581 -0.1721668 -1.5440814] 1.0 False False\n",
      "1 [ 0.14520256  1.1289797  -0.20304842 -1.8851687 ] 1.0 False False\n",
      "1 [ 0.16778216  1.32565    -0.24075179 -2.2334003 ] 1.0 True False\n",
      "1 [ 0.19429515  1.5221151  -0.2854198  -2.589698  ] 0.0 True False\n",
      "1 [ 0.22473745  1.7181325  -0.33721375 -2.9546075 ] 0.0 True False\n",
      "1 [ 0.2591001   1.9133507  -0.39630592 -3.3282154 ] 0.0 True False\n",
      "0 [ 0.29736713  1.7212584  -0.4628702  -3.1758976 ] 0.0 True False\n",
      "1 [ 0.3317923   1.9148915  -0.52638817 -3.567061  ] 0.0 True False\n",
      "1 [ 0.37009013  2.1064682  -0.5977294  -3.9632342 ] 0.0 True False\n",
      "0 [ 0.4122195  1.9138575 -0.6769941 -3.8898652] 0.0 True False\n",
      "1 [ 0.45049664  2.1013505  -0.7547914  -4.293257  ] 0.0 True False\n",
      "1 [ 0.49252364  2.2850015  -0.8406565  -4.6953483 ] 0.0 True False\n",
      "0 [ 0.5382237   2.088945   -0.93456346 -4.718255  ] 0.0 True False\n",
      "0 [ 0.58000255  1.8925066  -1.0289286  -4.7796545 ] 0.0 True False\n",
      "0 [ 0.6178527  1.6952223 -1.1245217 -4.878918 ] 0.0 True False\n",
      "0 [ 0.6517571  1.4965633 -1.2221    -5.0155096] 0.0 True False\n",
      "1 [ 0.6816884  1.6625012 -1.3224102 -5.376861 ] 0.0 True False\n",
      "0 [ 0.71493846  1.4575472  -1.4299475  -5.58626   ] 0.0 True False\n",
      "1 [ 0.74408937  1.6133437  -1.5416727  -5.9101553 ] 0.0 True False\n",
      "1 [ 0.7763563  1.7638186 -1.6598758 -6.210603 ] 0.0 True False\n",
      "0 [ 0.81163263  1.5457726  -1.7840878  -6.532534  ] 0.0 True False\n",
      "1 [ 0.8425481  1.6873431 -1.9147385 -6.774921 ] 0.0 True False\n",
      "1 [ 0.876295   1.8267164 -2.050237  -6.981207 ] 0.0 True False\n",
      "1 [ 0.9128293  1.9657714 -2.189861  -7.1458435] 0.0 True False\n",
      "0 [ 0.9521447  1.7345226 -2.332778  -7.586565 ] 0.0 True False\n",
      "0 [ 0.9868352  1.5005732 -2.4845092 -8.041528 ] 0.0 True False\n",
      "0 [ 1.0168467  1.2663734 -2.6453397 -8.499257 ] 0.0 True False\n",
      "1 [ 1.0421741  1.4193965 -2.815325  -8.437394 ] 0.0 True False\n",
      "1 [ 1.070562   1.5866468 -2.984073  -8.293983 ] 0.0 True False\n",
      "0 [ 1.1022949  1.3791487 -3.1499524 -8.647496 ] 0.0 True False\n",
      "1 [ 1.1298779  1.5749993 -3.3229024 -8.351273 ] 0.0 True False\n",
      "0 [ 1.1613779  1.3951184 -3.4899278 -8.563658 ] 0.0 True False\n",
      "0 [ 1.1892803  1.2304232 -3.661201  -8.695512 ] 0.0 True False\n",
      "1 [ 1.2138888  1.4641387 -3.8351114 -8.245227 ] 0.0 True False\n",
      "1 [ 1.2431716  1.7016088 -4.0000157 -7.7833657] 0.0 True False\n",
      "1 [ 1.2772037  1.938622  -4.155683  -7.328484 ] 0.0 True False\n",
      "0 [ 1.3159761  1.801643  -4.302253  -7.1874456] 0.0 True False\n",
      "0 [ 1.3520089  1.6663127 -4.4460015 -6.9987693] 0.0 True False\n",
      "0 [ 1.3853352  1.5302044 -4.585977  -6.7688847] 0.0 True False\n",
      "0 [ 1.4159393  1.3912272 -4.721355  -6.503513 ] 0.0 True False\n",
      "1 [ 1.4437639  1.6113759 -4.851425  -6.2124853] 0.0 True False\n",
      "0 [ 1.4759914  1.462276  -4.9756746 -5.8903275] 0.0 True False\n",
      "1 [ 1.5052369  1.6721603 -5.0934815 -5.6883936] 0.0 True False\n",
      "0 [ 1.5386801  1.511519  -5.207249  -5.3258634] 0.0 True False\n",
      "0 [ 1.5689105  1.3442359 -5.3137665 -4.9479666] 0.0 True False\n",
      "1 [ 1.5957953  1.5424988 -5.412726  -4.8738065] 0.0 True False\n",
      "0 [ 1.6266452  1.3655974 -5.510202  -4.4779935] 0.0 True False\n",
      "0 [ 1.6539571  1.1834654 -5.599762  -4.0771375] 0.0 True False\n",
      "1 [ 1.6776265  1.3761832 -5.6813045 -4.1156454] 0.0 True False\n",
      "0 [ 1.7051501  1.1881357 -5.7636175 -3.716681 ] 0.0 True False\n",
      "1 [ 1.7289128  1.3803017 -5.837951  -3.8209186] 0.0 True False\n",
      "0 [ 1.7565188  1.1883448 -5.9143696 -3.4344373] 0.0 True False\n",
      "0 [ 1.7802857   0.99439335 -5.983058   -3.0570831 ] 0.0 True False\n",
      "0 [ 1.8001736  0.7991652 -6.0442    -2.6904125] 0.0 True False\n",
      "1 [ 1.816157   0.9918703 -6.098008  -2.90166  ] 0.0 True False\n",
      "0 [ 1.8359944  0.7961508 -6.156041  -2.5589685] 0.0 True False\n",
      "0 [ 1.8519174   0.60026556 -6.2072206  -2.2302327 ] 0.0 True False\n",
      "1 [ 1.8639227  0.7945886 -6.2518253 -2.4985645] 0.0 True False\n",
      "1 [ 1.8798144   0.98943806 -6.3017964  -2.7814767 ] 0.0 True False\n",
      "1 [ 1.8996032  1.1846814 -6.357426  -3.0797625] 0.0 True False\n",
      "1 [ 1.9232968  1.3800992 -6.4190216 -3.3938882] 0.0 True False\n",
      "0 [ 1.9508988  1.1856406 -6.4868994 -3.1447005] 0.0 True False\n",
      "1 [ 1.9746116  1.3810669 -6.5497932 -3.4912567] 0.0 True False\n",
      "1 [ 2.002233   1.5757122 -6.6196184 -3.850367 ] 0.0 True False\n",
      "0 [ 2.0337472  1.3818305 -6.6966257 -3.6729045] 0.0 True False\n",
      "0 [ 2.0613837  1.188975  -6.770084  -3.526113 ] 0.0 True False\n",
      "1 [ 2.0851634  1.3812715 -6.840606  -3.918596 ] 0.0 True False\n",
      "1 [ 2.1127887  1.5710214 -6.9189777 -4.315661 ] 0.0 True False\n",
      "1 [ 2.1442091  1.7573968 -7.005291  -4.7151794] 0.0 True False\n",
      "1 [ 2.179357   1.9394748 -7.0995946 -5.1144547] 0.0 True False\n",
      "1 [ 2.2181466  2.1162882 -7.201884  -5.5103235] 0.0 True False\n",
      "1 [ 2.2604723  2.2868965 -7.3120904 -5.8993006] 0.0 True False\n",
      "0 [ 2.3062103  2.0801277 -7.430076  -5.9912167] 0.0 True False\n",
      "1 [ 2.347813   2.239046  -7.5499005 -6.357245 ] 0.0 True False\n",
      "1 [ 2.3925939  2.3905532 -7.6770453 -6.7058024] 0.0 True False\n",
      "0 [ 2.440405   2.1703436 -7.8111615 -6.9370723] 0.0 True False\n",
      "1 [ 2.4838116  2.3090427 -7.949903  -7.239709 ] 0.0 True False\n",
      "0 [ 2.5299926  2.0783768 -8.094697  -7.565495 ] 0.0 True False\n"
     ]
    },
    {
     "name": "stderr",
     "output_type": "stream",
     "text": [
      "c:\\Users\\CHR\\anaconda3\\Lib\\site-packages\\gym\\envs\\classic_control\\cartpole.py:177: UserWarning: \u001b[33mWARN: You are calling 'step()' even though this environment has already returned terminated = True. You should always call 'reset()' once you receive 'terminated = True' -- any further steps are undefined behavior.\u001b[0m\n",
      "  logger.warn(\n"
     ]
    }
   ],
   "source": [
    "for _ in range(100):\n",
    "    env.render()\n",
    "    action = env.action_space.sample()\n",
    "    observation, reward, done, trunk, info = env.step(action)\n",
    "    print(action, observation, reward, done, trunk)\n",
    "env.close()"
   ]
  },
  {
   "cell_type": "code",
   "execution_count": 66,
   "metadata": {},
   "outputs": [
    {
     "name": "stdout",
     "output_type": "stream",
     "text": [
      "Episode finished after 10 timesteps\n",
      "Episode finished after 50 timesteps\n"
     ]
    }
   ],
   "source": [
    "for i_episode in range(2):\n",
    "    observation = env.reset()\n",
    "    for k in range(100):\n",
    "        env.render()\n",
    "        action = env.action_space.sample()\n",
    "        observation, reward, done, trunk, info = env.step(action)\n",
    "        if done :\n",
    "            print(\"Episode finished after {} timesteps\".format(k+1))\n",
    "            break\n",
    "\n",
    "env.close()"
   ]
  },
  {
   "cell_type": "code",
   "execution_count": 3,
   "metadata": {},
   "outputs": [],
   "source": [
    "n_bins_pos = 10\n",
    "n_bins_vel = 10\n",
    "n_bins_ang = 10\n",
    "n_bins_anv = 10\n",
    "# 연속적인 상태를 discrete하게 변환해주는 함수\n",
    "def map_discrete_state(state):\n",
    "    pos, vel, ang, anv = state\n",
    "    \n",
    "    idx_pos = np.where(np.histogram(np.clip(pos,-2,2), bins = n_bins_pos, range = (-2,2))[0] == 1)[0][0]\n",
    "    idx_vel = np.where(np.histogram(np.clip(vel,-2,2), bins = n_bins_vel, range = (-2,2))[0] == 1)[0][0]\n",
    "    idx_ang = np.where(np.histogram(np.clip(ang,-0.4,0.4), bins = n_bins_ang, range = (-0.4,0.4))[0] == 1)[0][0]\n",
    "    idx_anv = np.where(np.histogram(np.clip(anv,-2,2), bins = n_bins_anv, range = (-2,2))[0] == 1)[0][0]\n",
    "\n",
    "    states = np.zeros([n_bins_pos, n_bins_vel, n_bins_ang, n_bins_anv])\n",
    "    states[idx_pos, idx_vel, idx_ang, idx_anv] = 1\n",
    "\n",
    "    states = states.reshape(-1,1)\n",
    "\n",
    "    s = np.where(states == 1)[0][0]\n",
    "    \n",
    "    return s  \n",
    "\n"
   ]
  },
  {
   "cell_type": "code",
   "execution_count": 5,
   "metadata": {},
   "outputs": [
    {
     "name": "stdout",
     "output_type": "stream",
     "text": [
      "Episode: 0 steps: 28\n",
      "Episode: 100 steps: 26\n",
      "Episode: 200 steps: 125\n",
      "Episode: 300 steps: 67\n",
      "Episode: 400 steps: 109\n",
      "Episode: 500 steps: 85\n",
      "Episode: 600 steps: 100\n",
      "Episode: 700 steps: 347\n",
      "Episode: 800 steps: 180\n"
     ]
    },
    {
     "data": {
      "text/plain": [
       "<StemContainer object of 3 artists>"
      ]
     },
     "execution_count": 5,
     "metadata": {},
     "output_type": "execute_result"
    },
    {
     "data": {
      "image/png": "[encoded data removed]",
      "text/plain": [
       "<Figure size 640x480 with 1 Axes>"
      ]
     },
     "metadata": {},
     "output_type": "display_data"
    }
   ],
   "source": [
    "alpha = 0.3\n",
    "gamma = 0.9\n",
    "n_states = n_bins_pos*n_bins_vel*n_bins_ang*n_bins_anv\n",
    "n_actions = 2\n",
    "trial = []\n",
    "Q_table = np.random.uniform(0, 1, (n_states, n_actions))\n",
    "\n",
    "for episode in range(801):\n",
    "    \n",
    "    done = False\n",
    "    state, _ = env.reset()\n",
    "    \n",
    "    count = 0\n",
    "    \n",
    "    while not done:\n",
    "        \n",
    "        count += 1\n",
    "        \n",
    "        s = map_discrete_state(state)    \n",
    "\n",
    "        # Exploration vs. Exploitation for action       \n",
    "        epsilon = 0.1\n",
    "        if np.random.uniform() < epsilon:\n",
    "            a = env.action_space.sample()\n",
    "        else:\n",
    "            a = np.argmax(Q_table[s, :])                \n",
    "\n",
    "        # next state and reward\n",
    "        next_state, reward, done, _, _ = env.step(a) \n",
    "                \n",
    "        if done:        \n",
    "            reward = -100        \n",
    "            Q_table[s, a] = reward\n",
    "                 \n",
    "        else:                                               \n",
    "            # Temporal Difference Update\n",
    "            next_s = map_discrete_state(next_state)\n",
    "            Q_table[s, a] = (1 - alpha)*Q_table[s, a] + alpha*(reward + gamma*np.max(Q_table[next_s, :]))\n",
    "\n",
    "        state = next_state\n",
    "    trial.append(count)\n",
    "    if episode % 100 == 0:\n",
    "        print(\"Episode: {} steps: {}\".format(episode, count))\n",
    "        \n",
    "env.close()\n",
    "plt.stem(trial)"
   ]
  },
  {
   "cell_type": "code",
   "execution_count": 72,
   "metadata": {},
   "outputs": [],
   "source": [
    "\n",
    "state, _ = env.reset()\n",
    "\n",
    "done = False\n",
    "cnt = 0\n",
    "screen = env.render()\n",
    "images = [Image.fromarray(screen)]\n",
    "while not done:\n",
    "   \n",
    "    if cnt % 10 == 0:\n",
    "        screen = env.render()\n",
    "        images.append(Image.fromarray(screen))\n",
    "    s = map_discrete_state(state)\n",
    "    a = np.argmax(Q_table[s,:])\n",
    "    \n",
    "    next_state, _, done, _, _ = env.step(a)      \n",
    "    state = next_state  \n",
    "    cnt +=1  \n",
    "env.close()\n",
    "\n",
    "image_file = 'cartpole-v1.gif'\n",
    "# loop=0: loop forever, duration=1: play each frame for 1ms\n",
    "images[0].save(\n",
    "    image_file, save_all=True, append_images=images[1:], loop=0, duration=1)"
   ]
  }
 ],
 "metadata": {
  "kernelspec": {
   "display_name": "base",
   "language": "python",
   "name": "python3"
  },
  "language_info": {
   "codemirror_mode": {
    "name": "ipython",
    "version": 3
   },
   "file_extension": ".py",
   "mimetype": "text/x-python",
   "name": "python",
   "nbconvert_exporter": "python",
   "pygments_lexer": "ipython3",
   "version": "3.11.7"
  }
 },
 "nbformat": 4,
 "nbformat_minor": 2
}
