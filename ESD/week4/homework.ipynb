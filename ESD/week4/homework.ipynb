{
 "cells": [
  {
   "cell_type": "code",
   "execution_count": 1,
   "metadata": {},
   "outputs": [],
   "source": [
    "import cv2\n",
    "import numpy as np\n",
    "from matplotlib import pyplot as plt"
   ]
  },
  {
   "cell_type": "code",
   "execution_count": 26,
   "metadata": {},
   "outputs": [],
   "source": [
    "#주어진 영상 (img1.jpg)에 빨강, 파랑, 초록색의 점을 각각 설정한 개수만큼 무작위로 생성하는 프로그램 작성\n",
    "img1 = cv2.imread(\"C:/Users/CHR/Documents/GitHub/TEST/ESD/week4/image/img1.jpg\")\n",
    "h, w, _  = img1.shape\n",
    "img2 = np.zeros_like(img1)\n",
    "size = h * w\n",
    "num =[np.random.randint(0, size) for _ in range(3)]\n",
    "colorNum = [np.random.choice(size, num[i], replace= False) for i in range(3)]\n",
    "for i in range(0, 3) :\n",
    "    for pos in colorNum[i]:\n",
    "        x = pos // w\n",
    "        y = pos %  w \n",
    "        img2[x][y][i] = 255\n",
    "image = cv2.add(img1, img2)\n",
    "cv2.imshow('dst2', img2)\n",
    "cv2.imshow('dst', img1)\n",
    "cv2.imshow('result', image)\n",
    "cv2.waitKey(0)\n",
    "cv2.destroyAllWindows()"
   ]
  },
  {
   "cell_type": "code",
   "execution_count": 27,
   "metadata": {},
   "outputs": [],
   "source": [
    "def countColor(img):\n",
    "    h, w, _  = img.shape\n",
    "    cnt =[0] *3\n",
    "\n",
    "    for x in range(h):\n",
    "        for y in range(w):\n",
    "            for c in range(3):\n",
    "                if(img[x][y][c] == 255):\n",
    "                    cnt[c] +=1\n",
    "    return cnt\n",
    "\n",
    "arr = countColor(image)"
   ]
  },
  {
   "cell_type": "code",
   "execution_count": 66,
   "metadata": {},
   "outputs": [],
   "source": [
    "img1 = cv2.imread(\"C:/Users/CHR/Documents/GitHub/TEST/ESD/week4/image/img2.jpg\")\n",
    "h, w, _ = img1.shape\n",
    "\n",
    "st = 0\n",
    "ed = 255\n",
    "\n",
    "img_2 = np.zeros_like(img1, dtype=np.uint8)\n",
    "img_3 = np.zeros_like(img1, dtype=np.uint8)\n",
    "gradient = np.linspace(st, ed, h, dtype=np.uint8)\n",
    "for x in range(h):\n",
    "    img_2[x, :, :] = gradient[x]\n",
    "    img_3[x, :, :] = ed - gradient[x]\n",
    "\n",
    "\n",
    "cv2.imshow('gradient', img_2)\n",
    "image = cv2.subtract(img1, img_2)\n",
    "image_2 = cv2.subtract(img1, img_3)\n",
    "cv2.imshow('image', image)\n",
    "cv2.imshow('image_2', image_2)\n",
    "cv2.waitKey(0)\n",
    "cv2.destroyAllWindows()\n"
   ]
  }
 ],
 "metadata": {
  "kernelspec": {
   "display_name": "base",
   "language": "python",
   "name": "python3"
  },
  "language_info": {
   "codemirror_mode": {
    "name": "ipython",
    "version": 3
   },
   "file_extension": ".py",
   "mimetype": "text/x-python",
   "name": "python",
   "nbconvert_exporter": "python",
   "pygments_lexer": "ipython3",
   "version": "3.11.7"
  }
 },
 "nbformat": 4,
 "nbformat_minor": 2
}
